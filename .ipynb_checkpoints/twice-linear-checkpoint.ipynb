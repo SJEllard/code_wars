{
 "cells": [
  {
   "cell_type": "code",
   "execution_count": null,
   "metadata": {},
   "outputs": [],
   "source": [
    "# Consider a sequence u where u is defined as follows:\n",
    "\n",
    "# The number u(0) = 1 is the first one in u.\n",
    "# For each x in u, then y = 2 * x + 1 and z = 3 * x + 1 must be in u too.\n",
    "# There are no other numbers in u.\n",
    "# Ex: u = [1, 3, 4, 7, 9, 10, 13, 15, 19, 21, 22, 27, ...]\n",
    "\n",
    "# 1 gives 3 and 4, then 3 gives 7 and 10, 4 gives 9 and 13, then 7 gives 15 and 22 and so on...\n",
    "\n",
    "# Task:\n",
    "\n",
    "# Given parameter n the function dbl_linear (or dblLinear...) \n",
    "# returns the element u(n) of the ordered (with <) sequence u (so, there are no duplicates)."
   ]
  },
  {
   "cell_type": "code",
   "execution_count": 159,
   "metadata": {},
   "outputs": [],
   "source": [
    "def dbl_linear(n):\n",
    "    #create variables, y index, z index, while index, and main array\n",
    "    y, z, i, u = 0, 0, 0, [1]\n",
    "    while i < n:\n",
    "        #find next nums\n",
    "        next_y, next_z = 2 * u[y] + 1, 3 * u[z] + 1\n",
    "        #if next_y is smallest, append it, increase it's index. \n",
    "        if next_y <= next_z:\n",
    "            u.append(next_y)\n",
    "            y += 1\n",
    "            if next_y == next_z:\n",
    "                z += 1\n",
    "        #if next_z is smallest, append it, increase its index\n",
    "        elif next_y >= next_z:\n",
    "            u.append(next_z)\n",
    "            z += 1\n",
    "        i += 1\n",
    "    return u[n]\n",
    "    "
   ]
  },
  {
   "cell_type": "code",
   "execution_count": 160,
   "metadata": {},
   "outputs": [],
   "source": [
    "# 1 -> 3, 4    [1, 3, 4]\n",
    "# 3 -> 7, 10   [1, 3, 4, 7, 10]\n",
    "# 4 -> 9, 13   [1, 3, 4, 7, 10, 9, 13] \n",
    "# 7 -> 15, 22  [1, 3, 4, 7, 10, 9, 13, 15, 22]"
   ]
  },
  {
   "cell_type": "code",
   "execution_count": 161,
   "metadata": {},
   "outputs": [
    {
     "data": {
      "text/plain": [
       "22"
      ]
     },
     "execution_count": 161,
     "metadata": {},
     "output_type": "execute_result"
    }
   ],
   "source": [
    "dbl_linear(10) #22"
   ]
  },
  {
   "cell_type": "code",
   "execution_count": 162,
   "metadata": {},
   "outputs": [
    {
     "data": {
      "text/plain": [
       "57"
      ]
     },
     "execution_count": 162,
     "metadata": {},
     "output_type": "execute_result"
    }
   ],
   "source": [
    "dbl_linear(20) #57"
   ]
  },
  {
   "cell_type": "code",
   "execution_count": 163,
   "metadata": {},
   "outputs": [
    {
     "data": {
      "text/plain": [
       "175"
      ]
     },
     "execution_count": 163,
     "metadata": {},
     "output_type": "execute_result"
    }
   ],
   "source": [
    "dbl_linear(50) #175"
   ]
  }
 ],
 "metadata": {
  "kernelspec": {
   "display_name": "Python 3",
   "language": "python",
   "name": "python3"
  },
  "language_info": {
   "codemirror_mode": {
    "name": "ipython",
    "version": 3
   },
   "file_extension": ".py",
   "mimetype": "text/x-python",
   "name": "python",
   "nbconvert_exporter": "python",
   "pygments_lexer": "ipython3",
   "version": "3.7.3"
  }
 },
 "nbformat": 4,
 "nbformat_minor": 2
}
