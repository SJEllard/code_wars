{
 "cells": [
  {
   "cell_type": "code",
   "execution_count": null,
   "metadata": {},
   "outputs": [],
   "source": [
    "# We want to create a function that will add numbers together when called in succession.\n",
    "\n",
    "# add(1)(2);\n",
    "# // returns 3\n",
    "# We also want to be able to continue to add numbers to our chain.\n",
    "\n",
    "# add(1)(2)(3); // 6\n",
    "# add(1)(2)(3)(4); // 10\n",
    "# add(1)(2)(3)(4)(5); // 15\n",
    "# and so on.\n",
    "\n",
    "# A single call should return the number passed in.\n",
    "\n",
    "# add(1); // 1\n",
    "# We should be able to store the returned values and reuse them.\n",
    "\n",
    "# var addTwo = add(2);\n",
    "# addTwo; // 2\n",
    "# addTwo + 5; // 7\n",
    "# addTwo(3); // 5\n",
    "# addTwo(3)(5); // 10\n",
    "# We can assume any number being passed in will be valid whole number."
   ]
  },
  {
   "cell_type": "code",
   "execution_count": 17,
   "metadata": {},
   "outputs": [],
   "source": [
    "# Custom integer class, defines __call__ which returns which returns instance of itself \n",
    "# with update value\n",
    "class Custom(int):\n",
    "    def __call__(self, v):\n",
    "        return Custom(self + v)\n",
    "    \n",
    "# define our function which returns a Custom instance and passes our value \n",
    "def add(v):\n",
    "    return Custom(v)"
   ]
  },
  {
   "cell_type": "code",
   "execution_count": 18,
   "metadata": {},
   "outputs": [
    {
     "data": {
      "text/plain": [
       "1"
      ]
     },
     "execution_count": 18,
     "metadata": {},
     "output_type": "execute_result"
    }
   ],
   "source": [
    "add(1)"
   ]
  },
  {
   "cell_type": "code",
   "execution_count": 19,
   "metadata": {},
   "outputs": [
    {
     "name": "stdout",
     "output_type": "stream",
     "text": [
      "8\n"
     ]
    }
   ],
   "source": [
    "var = add(1)(4)(3)\n",
    "print(var)"
   ]
  },
  {
   "cell_type": "code",
   "execution_count": 20,
   "metadata": {},
   "outputs": [
    {
     "name": "stdout",
     "output_type": "stream",
     "text": [
      "18\n"
     ]
    }
   ],
   "source": [
    "var += 10\n",
    "print(var)"
   ]
  },
  {
   "cell_type": "code",
   "execution_count": 23,
   "metadata": {},
   "outputs": [
    {
     "name": "stdout",
     "output_type": "stream",
     "text": [
      "6.0\n"
     ]
    }
   ],
   "source": [
    "var /= 3\n",
    "print(var)"
   ]
  }
 ],
 "metadata": {
  "kernelspec": {
   "display_name": "Python 3",
   "language": "python",
   "name": "python3"
  },
  "language_info": {
   "codemirror_mode": {
    "name": "ipython",
    "version": 3
   },
   "file_extension": ".py",
   "mimetype": "text/x-python",
   "name": "python",
   "nbconvert_exporter": "python",
   "pygments_lexer": "ipython3",
   "version": "3.7.3"
  }
 },
 "nbformat": 4,
 "nbformat_minor": 2
}
