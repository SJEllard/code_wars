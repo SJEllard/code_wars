{
 "cells": [
  {
   "cell_type": "code",
   "execution_count": null,
   "metadata": {},
   "outputs": [],
   "source": [
    "# See: https://www.codewars.com/kata/55c04b4cc56a697bb0000048/train/python\n",
    "###\n",
    "# Complete the function scramble(str1, str2) that returns true if\n",
    "# a portion of str1 characters can be rearranged to match str2, otherwise returns false.\n",
    "\n",
    "# Notes:\n",
    "\n",
    "# Only lower case letters will be used (a-z). No punctuation or digits will be included.\n",
    "# Performance needs to be considered\n",
    "# Input strings s1 and s2 are null terminated.\n",
    "# Examples\n",
    "\n",
    "# scramble('rkqodlw', 'world') ==> True\n",
    "# scramble('cedewaraaossoqqyt', 'codewars') ==> True\n",
    "# scramble('katas', 'steak') ==> False"
   ]
  },
  {
   "cell_type": "code",
   "execution_count": 109,
   "metadata": {},
   "outputs": [],
   "source": [
    "from collections import Counter\n",
    "\n",
    "#The operator \"not\" yields True if its argument is false, False otherwise.\n",
    "def scramble(s1, s2):\n",
    "    count_1 = Counter(s1)\n",
    "    count_2 = Counter(s2)\n",
    "    return not(Counter(s2) - Counter(s1))"
   ]
  },
  {
   "cell_type": "code",
   "execution_count": 110,
   "metadata": {},
   "outputs": [
    {
     "data": {
      "text/plain": [
       "True"
      ]
     },
     "execution_count": 110,
     "metadata": {},
     "output_type": "execute_result"
    }
   ],
   "source": [
    "scramble('rkqodlwwwrrr', 'world')"
   ]
  },
  {
   "cell_type": "code",
   "execution_count": 111,
   "metadata": {},
   "outputs": [
    {
     "data": {
      "text/plain": [
       "True"
      ]
     },
     "execution_count": 111,
     "metadata": {},
     "output_type": "execute_result"
    }
   ],
   "source": [
    "scramble('cedewarzzaaossoqqyt', 'codewars')"
   ]
  },
  {
   "cell_type": "code",
   "execution_count": 108,
   "metadata": {},
   "outputs": [
    {
     "data": {
      "text/plain": [
       "False"
      ]
     },
     "execution_count": 108,
     "metadata": {},
     "output_type": "execute_result"
    }
   ],
   "source": [
    "scramble('krzatas', 'steak')"
   ]
  },
  {
   "cell_type": "code",
   "execution_count": null,
   "metadata": {},
   "outputs": [],
   "source": [
    "#Similar count solution\n",
    "def scramble(s1,s2):\n",
    "    for letter in range(len(s2)):\n",
    "        if s1.count(s2[letter]) < s2.count(s2[letter]):\n",
    "            return False\n",
    "    return True"
   ]
  },
  {
   "cell_type": "code",
   "execution_count": null,
   "metadata": {},
   "outputs": [],
   "source": [
    "#Old solution, first attempt.\n",
    "#Works, but terrible performance, won't handle huge strings\n",
    "def scramble(s1, s2):\n",
    "    dictionary2 = {}\n",
    "    \n",
    "    for letter in s2:\n",
    "        dictionary2[letter] = 0\n",
    "    \n",
    "    for key in dictionary2:\n",
    "        for i in range(0,len(s2)):\n",
    "            if (key == s2[i]):\n",
    "                dictionary2[key] += 1 \n",
    "    \n",
    "    for key in dictionary2:\n",
    "        for i in range(0,len(s1)):\n",
    "            if (key == s1[i]):\n",
    "                if dictionary2[key] <= 0:\n",
    "                    pass\n",
    "                else:\n",
    "                    dictionary2[key] -= 1\n",
    "        if dictionary2[key] > 0:\n",
    "            return False\n",
    "        else:\n",
    "            pass\n",
    "    return True"
   ]
  }
 ],
 "metadata": {
  "kernelspec": {
   "display_name": "Python 3",
   "language": "python",
   "name": "python3"
  },
  "language_info": {
   "codemirror_mode": {
    "name": "ipython",
    "version": 3
   },
   "file_extension": ".py",
   "mimetype": "text/x-python",
   "name": "python",
   "nbconvert_exporter": "python",
   "pygments_lexer": "ipython3",
   "version": "3.7.3"
  }
 },
 "nbformat": 4,
 "nbformat_minor": 2
}
