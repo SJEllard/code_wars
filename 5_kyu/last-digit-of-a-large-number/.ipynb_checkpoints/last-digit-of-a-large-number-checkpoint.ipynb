{
 "cells": [
  {
   "cell_type": "code",
   "execution_count": null,
   "metadata": {},
   "outputs": [],
   "source": [
    "# Define a function that takes in two non-negative integers a and b and returns the last decimal digit of a^b. \n",
    "# Note that a and b may be very large!\n",
    "\n",
    "# For example, the last decimal digit of 9^7 is 9, since 9^7 = 4782969. \n",
    "# The last decimal digit of (2^200)^(2^300), which has over 10^92 decimal digits, is 6. \n",
    "# Also, please take 0^0 to be 1.\n",
    "\n",
    "# You may assume that the input will always be valid.\n",
    "\n",
    "# Examples\n",
    "\n",
    "# last_digit(4, 1)                # returns 4\n",
    "# last_digit(4, 2)                # returns 6\n",
    "# last_digit(9, 7)                # returns 9\n",
    "# last_digit(10, 10 ** 10)        # returns 0\n",
    "# last_digit(2 ** 200, 2 ** 300)  # returns 6"
   ]
  },
  {
   "cell_type": "code",
   "execution_count": null,
   "metadata": {},
   "outputs": [],
   "source": [
    "# digit|d^2|d^3|d^4|d^5|...    Last digit\n",
    "# ---------------------\n",
    "#     0| 0 | 0 | 0 | 0 |...\n",
    "#     1| 1 | 1 | 1 | 1 |...\n",
    "#     2| 2 | 4 | 8 | 6 | 2 | 4 |...\n",
    "#     3| 3 | 9 | 7 | 1 | 3 | 9 |...\n",
    "#     4| 4 | 6 | 4 | 6 |...\n",
    "#     5| 5 | 5 | 5 | 5 |...\n",
    "#     6| 6 | 6 | 6 | 6 |...\n",
    "#     7| 7 | 9 | 3 | 1 | 7 | 9 |...\n",
    "#     8| 8 | 4 | 2 | 6 | 8 | 4 |...\n",
    "#     9| 9 | 1 | 9 | 1 |..."
   ]
  },
  {
   "cell_type": "code",
   "execution_count": 53,
   "metadata": {},
   "outputs": [
    {
     "name": "stdout",
     "output_type": "stream",
     "text": [
      "[0, 0, 0, 0, 0, 0, 0, 0]\n",
      "[1, 1, 1, 1, 1, 1, 1, 1]\n",
      "[2, 4, 8, 16, 32, 64, 128, 256]\n",
      "[3, 9, 27, 81, 243, 729, 2187, 6561]\n",
      "[4, 16, 64, 256, 1024, 4096, 16384, 65536]\n",
      "[5, 25, 125, 625, 3125, 15625, 78125, 390625]\n",
      "[6, 36, 216, 1296, 7776, 46656, 279936, 1679616]\n",
      "[7, 49, 343, 2401, 16807, 117649, 823543, 5764801]\n",
      "[8, 64, 512, 4096, 32768, 262144, 2097152, 16777216]\n",
      "[9, 81, 729, 6561, 59049, 531441, 4782969, 43046721]\n",
      "[10, 100, 1000, 10000, 100000, 1000000, 10000000, 100000000]\n",
      "[11, 121, 1331, 14641, 161051, 1771561, 19487171, 214358881]\n",
      "[12, 144, 1728, 20736, 248832, 2985984, 35831808, 429981696]\n",
      "[13, 169, 2197, 28561, 371293, 4826809, 62748517, 815730721]\n",
      "[14, 196, 2744, 38416, 537824, 7529536, 105413504, 1475789056]\n",
      "[15, 225, 3375, 50625, 759375, 11390625, 170859375, 2562890625]\n",
      "[16, 256, 4096, 65536, 1048576, 16777216, 268435456, 4294967296]\n",
      "[17, 289, 4913, 83521, 1419857, 24137569, 410338673, 6975757441]\n",
      "[18, 324, 5832, 104976, 1889568, 34012224, 612220032, 11019960576]\n",
      "[19, 361, 6859, 130321, 2476099, 47045881, 893871739, 16983563041]\n",
      "[20, 400, 8000, 160000, 3200000, 64000000, 1280000000, 25600000000]\n",
      "[21, 441, 9261, 194481, 4084101, 85766121, 1801088541, 37822859361]\n",
      "[22, 484, 10648, 234256, 5153632, 113379904, 2494357888, 54875873536]\n",
      "[23, 529, 12167, 279841, 6436343, 148035889, 3404825447, 78310985281]\n",
      "[24, 576, 13824, 331776, 7962624, 191102976, 4586471424, 110075314176]\n",
      "[25, 625, 15625, 390625, 9765625, 244140625, 6103515625, 152587890625]\n",
      "[26, 676, 17576, 456976, 11881376, 308915776, 8031810176, 208827064576]\n",
      "[27, 729, 19683, 531441, 14348907, 387420489, 10460353203, 282429536481]\n",
      "[28, 784, 21952, 614656, 17210368, 481890304, 13492928512, 377801998336]\n",
      "[29, 841, 24389, 707281, 20511149, 594823321, 17249876309, 500246412961]\n"
     ]
    }
   ],
   "source": [
    "n = 0\n",
    "#NOTICE LAST DIGITS REPEAT THEMSELVES\n",
    "while n < 30:\n",
    "    nums = [n**1, n**2, n**3, n**4, n**5, n**6, n**7, n**8]\n",
    "    print(nums)\n",
    "    n += 1"
   ]
  },
  {
   "cell_type": "code",
   "execution_count": 212,
   "metadata": {},
   "outputs": [],
   "source": [
    "#SOLUTION\n",
    "def last_digit(n, exponent):\n",
    "    if exponent == 0:\n",
    "        return 1 \n",
    "    \n",
    "    #create cycle of repeating last nums\n",
    "    #first index is last num when n^1, then n^2, etc.\n",
    "    cycle = [n % 10]\n",
    "    while True:\n",
    "        #find next last num \n",
    "        next_num = (cycle[-1] * n) % 10\n",
    "        #if next last num is same as first, we have completed cycle, so break \n",
    "        if next_num == cycle[0]:\n",
    "            break\n",
    "        #if not, append next num. [e.g. wont create [1,1,1,....], will be [1], \n",
    "        #and [9,1] and [8,4,2,6] etc. (see above) this populates our cycle array\n",
    "        cycle.append(next_num)\n",
    "    \n",
    "    #cycle has our array of all possible last numbers\n",
    "    return cycle[(exponent - 1) % len(cycle)]"
   ]
  },
  {
   "cell_type": "code",
   "execution_count": 213,
   "metadata": {},
   "outputs": [
    {
     "name": "stdout",
     "output_type": "stream",
     "text": [
      "[4]\n"
     ]
    }
   ],
   "source": [
    "last_digit(4, 2)"
   ]
  },
  {
   "cell_type": "code",
   "execution_count": 214,
   "metadata": {},
   "outputs": [
    {
     "name": "stdout",
     "output_type": "stream",
     "text": [
      "[1]\n"
     ]
    }
   ],
   "source": [
    "last_digit(91, 7)"
   ]
  },
  {
   "cell_type": "code",
   "execution_count": 215,
   "metadata": {},
   "outputs": [
    {
     "name": "stdout",
     "output_type": "stream",
     "text": [
      "[3]\n"
     ]
    }
   ],
   "source": [
    "last_digit(113, 12)"
   ]
  },
  {
   "cell_type": "code",
   "execution_count": 216,
   "metadata": {},
   "outputs": [
    {
     "name": "stdout",
     "output_type": "stream",
     "text": [
      "[4]\n"
     ]
    }
   ],
   "source": [
    "last_digit(114, 12)"
   ]
  },
  {
   "cell_type": "code",
   "execution_count": 217,
   "metadata": {},
   "outputs": [
    {
     "name": "stdout",
     "output_type": "stream",
     "text": [
      "[0]\n"
     ]
    }
   ],
   "source": [
    "last_digit(10, 10 ** 10)"
   ]
  },
  {
   "cell_type": "code",
   "execution_count": 218,
   "metadata": {},
   "outputs": [
    {
     "name": "stdout",
     "output_type": "stream",
     "text": [
      "[3]\n"
     ]
    }
   ],
   "source": [
    "last_digit(203, 11 ** 32)"
   ]
  },
  {
   "cell_type": "code",
   "execution_count": null,
   "metadata": {},
   "outputs": [],
   "source": []
  }
 ],
 "metadata": {
  "kernelspec": {
   "display_name": "Python 3",
   "language": "python",
   "name": "python3"
  },
  "language_info": {
   "codemirror_mode": {
    "name": "ipython",
    "version": 3
   },
   "file_extension": ".py",
   "mimetype": "text/x-python",
   "name": "python",
   "nbconvert_exporter": "python",
   "pygments_lexer": "ipython3",
   "version": "3.7.3"
  }
 },
 "nbformat": 4,
 "nbformat_minor": 2
}
