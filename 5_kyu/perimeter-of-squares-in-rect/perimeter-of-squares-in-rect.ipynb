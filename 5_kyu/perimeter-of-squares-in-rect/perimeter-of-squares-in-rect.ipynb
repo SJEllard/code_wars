{
 "cells": [
  {
   "cell_type": "code",
   "execution_count": null,
   "metadata": {},
   "outputs": [],
   "source": [
    "# see: https://www.codewars.com/kata/559a28007caad2ac4e000083/train/python\n",
    "        \n",
    "# The drawing shows 6 squares the sides of which have a length of 1, 1, 2, 3, 5, 8. \n",
    "# It's easy to see that the sum of the perimeters of these squares is : 4 * (1 + 1 + 2 + 3 + 5 + 8) = 4 * 20 = 80\n",
    "\n",
    "# Could you give the sum of the perimeters of all the squares in a rectangle when there are n + 1 squares\n",
    "# disposed in the same manner as in the drawing:\n",
    "\n",
    "# Hint: See Fibonacci sequence\n",
    "\n",
    "# Ref: http://oeis.org/A000045\n",
    "\n",
    "# The function perimeter has for parameter n where n + 1 is the number of squares \n",
    "# (they are numbered from 0 to n) and returns the total perimeter of all the squares.\n",
    "# SUM OF ALL PERIMETERS, not the perimeter of the constructed square (e.g. peri 5 is 80)"
   ]
  },
  {
   "cell_type": "code",
   "execution_count": 30,
   "metadata": {},
   "outputs": [],
   "source": [
    "def perimeter(n):\n",
    "    if n == 0:\n",
    "        return 4\n",
    "    elif n == 1:\n",
    "        return 8\n",
    "    else:\n",
    "        i = 0\n",
    "        last_two = [1, 1]\n",
    "        result = 2\n",
    "        while i < (n-1):\n",
    "            nextside = sum(last_two)\n",
    "            last_two[0] = last_two[1]\n",
    "            last_two[1] = nextside\n",
    "            result += (nextside )\n",
    "            i += 1\n",
    "        return (result*4)        "
   ]
  },
  {
   "cell_type": "code",
   "execution_count": 31,
   "metadata": {},
   "outputs": [
    {
     "data": {
      "text/plain": [
       "80"
      ]
     },
     "execution_count": 31,
     "metadata": {},
     "output_type": "execute_result"
    }
   ],
   "source": [
    "perimeter(5) #80"
   ]
  },
  {
   "cell_type": "code",
   "execution_count": 32,
   "metadata": {},
   "outputs": [
    {
     "data": {
      "text/plain": [
       "216"
      ]
     },
     "execution_count": 32,
     "metadata": {},
     "output_type": "execute_result"
    }
   ],
   "source": [
    "perimeter(7) #216"
   ]
  },
  {
   "cell_type": "code",
   "execution_count": 33,
   "metadata": {},
   "outputs": [
    {
     "data": {
      "text/plain": [
       "114624"
      ]
     },
     "execution_count": 33,
     "metadata": {},
     "output_type": "execute_result"
    }
   ],
   "source": [
    "perimeter(20) #114624"
   ]
  },
  {
   "cell_type": "code",
   "execution_count": 34,
   "metadata": {},
   "outputs": [
    {
     "data": {
      "text/plain": [
       "6002082144827584333104"
      ]
     },
     "execution_count": 34,
     "metadata": {},
     "output_type": "execute_result"
    }
   ],
   "source": [
    "perimeter(100) #6002082144827584333104"
   ]
  }
 ],
 "metadata": {
  "kernelspec": {
   "display_name": "Python 3",
   "language": "python",
   "name": "python3"
  },
  "language_info": {
   "codemirror_mode": {
    "name": "ipython",
    "version": 3
   },
   "file_extension": ".py",
   "mimetype": "text/x-python",
   "name": "python",
   "nbconvert_exporter": "python",
   "pygments_lexer": "ipython3",
   "version": "3.7.3"
  }
 },
 "nbformat": 4,
 "nbformat_minor": 2
}
