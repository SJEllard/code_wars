{
 "cells": [
  {
   "cell_type": "code",
   "execution_count": null,
   "metadata": {},
   "outputs": [],
   "source": [
    "# The Fibonacci numbers are the numbers in the following integer sequence (Fn):\n",
    "\n",
    "# 0, 1, 1, 2, 3, 5, 8, 13, 21, 34, 55, 89, 144, 233, ...\n",
    "# such as\n",
    "\n",
    "# F(n) = F(n-1) + F(n-2) with F(0) = 0 and F(1) = 1.\n",
    "\n",
    "# Given a number, say prod (for product), we search two Fibonacci numbers F(n) and F(n+1) verifying\n",
    "\n",
    "# F(n) * F(n+1) = prod. , return\n",
    "\n",
    "# [F(n), F(n+1), True]\n",
    "\n",
    "# If you don't find two consecutive F(m) verifying F(m) * F(m+1) = prodyou will return\n",
    "\n",
    "# [F(m), F(m+1), false]\n",
    "\n",
    "# test.assert_equals(productFib(4895), [55, 89, True])\n",
    "# test.assert_equals(productFib(5895), [89, 144, False])"
   ]
  },
  {
   "cell_type": "code",
   "execution_count": 14,
   "metadata": {},
   "outputs": [],
   "source": [
    "def productFib(n):\n",
    "    #iterative solution\n",
    "    a = [0, 1]\n",
    "    i = 3 \n",
    "    while i <= n:\n",
    "        if a[0] * a[1] == n:\n",
    "            array = [a[0], a[1], True]\n",
    "            return array\n",
    "        elif a[0] * a[1] > n:\n",
    "            array = [a[0], a[1], False]\n",
    "            return array\n",
    "        else:\n",
    "            new = a[0] + a[1]\n",
    "            a[0] = a[1]\n",
    "            a[1] = new\n",
    "            i += 1\n"
   ]
  },
  {
   "cell_type": "code",
   "execution_count": 17,
   "metadata": {},
   "outputs": [
    {
     "data": {
      "text/plain": [
       "[55, 89, True]"
      ]
     },
     "execution_count": 17,
     "metadata": {},
     "output_type": "execute_result"
    }
   ],
   "source": [
    "productFib(4895)"
   ]
  },
  {
   "cell_type": "code",
   "execution_count": 18,
   "metadata": {},
   "outputs": [
    {
     "data": {
      "text/plain": [
       "[89, 144, False]"
      ]
     },
     "execution_count": 18,
     "metadata": {},
     "output_type": "execute_result"
    }
   ],
   "source": [
    "productFib(4896)"
   ]
  },
  {
   "cell_type": "code",
   "execution_count": 26,
   "metadata": {},
   "outputs": [
    {
     "data": {
      "text/plain": [
       "[2, 3, True]"
      ]
     },
     "execution_count": 26,
     "metadata": {},
     "output_type": "execute_result"
    }
   ],
   "source": [
    "productFib(6)"
   ]
  },
  {
   "cell_type": "code",
   "execution_count": 27,
   "metadata": {},
   "outputs": [
    {
     "data": {
      "text/plain": [
       "[8, 13, False]"
      ]
     },
     "execution_count": 27,
     "metadata": {},
     "output_type": "execute_result"
    }
   ],
   "source": [
    "productFib(56)"
   ]
  }
 ],
 "metadata": {
  "kernelspec": {
   "display_name": "Python 3",
   "language": "python",
   "name": "python3"
  },
  "language_info": {
   "codemirror_mode": {
    "name": "ipython",
    "version": 3
   },
   "file_extension": ".py",
   "mimetype": "text/x-python",
   "name": "python",
   "nbconvert_exporter": "python",
   "pygments_lexer": "ipython3",
   "version": "3.7.3"
  }
 },
 "nbformat": 4,
 "nbformat_minor": 2
}
