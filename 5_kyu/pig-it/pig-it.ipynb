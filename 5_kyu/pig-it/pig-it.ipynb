{
 "cells": [
  {
   "cell_type": "code",
   "execution_count": 53,
   "metadata": {},
   "outputs": [],
   "source": [
    "def pig_it(text):\n",
    "    result = ''\n",
    "    words = text.split(\" \")\n",
    "    for word in words:\n",
    "        if word != \"!\" and word != \"?\":\n",
    "            suffix_one = word[0]\n",
    "            suffix_two = \"ay\"\n",
    "            word = word[1 : : ] + suffix_one + suffix_two\n",
    "        if result == \"\":\n",
    "            result += word\n",
    "        else:\n",
    "            result += \" \" + word\n",
    "    return result"
   ]
  },
  {
   "cell_type": "code",
   "execution_count": 54,
   "metadata": {},
   "outputs": [
    {
     "name": "stdout",
     "output_type": "stream",
     "text": [
      "['string', 'of', 'words']\n",
      "string\n",
      "of\n",
      "words\n"
     ]
    },
    {
     "data": {
      "text/plain": [
       "'tringsay foay ordsway'"
      ]
     },
     "execution_count": 54,
     "metadata": {},
     "output_type": "execute_result"
    }
   ],
   "source": [
    "pig_it(\"string of words\")"
   ]
  },
  {
   "cell_type": "code",
   "execution_count": 55,
   "metadata": {},
   "outputs": [
    {
     "name": "stdout",
     "output_type": "stream",
     "text": [
      "['Pig', 'latin', 'is', 'cool']\n",
      "Pig\n",
      "latin\n",
      "is\n",
      "cool\n"
     ]
    },
    {
     "data": {
      "text/plain": [
       "'igPay atinlay siay oolcay'"
      ]
     },
     "execution_count": 55,
     "metadata": {},
     "output_type": "execute_result"
    }
   ],
   "source": [
    "pig_it('Pig latin is cool') # igPay atinlay siay oolcay"
   ]
  },
  {
   "cell_type": "code",
   "execution_count": 56,
   "metadata": {},
   "outputs": [
    {
     "name": "stdout",
     "output_type": "stream",
     "text": [
      "['Hello', 'world', '!']\n",
      "Hello\n",
      "world\n",
      "!\n"
     ]
    },
    {
     "data": {
      "text/plain": [
       "'elloHay orldway !'"
      ]
     },
     "execution_count": 56,
     "metadata": {},
     "output_type": "execute_result"
    }
   ],
   "source": [
    "pig_it('Hello world !') # elloHay orldway !"
   ]
  },
  {
   "cell_type": "code",
   "execution_count": 57,
   "metadata": {},
   "outputs": [
    {
     "name": "stdout",
     "output_type": "stream",
     "text": [
      "['Hello', 'world', '?']\n",
      "Hello\n",
      "world\n",
      "?\n"
     ]
    },
    {
     "data": {
      "text/plain": [
       "'elloHay orldway ?'"
      ]
     },
     "execution_count": 57,
     "metadata": {},
     "output_type": "execute_result"
    }
   ],
   "source": [
    "pig_it('Hello world ?')"
   ]
  },
  {
   "cell_type": "code",
   "execution_count": 58,
   "metadata": {},
   "outputs": [
    {
     "name": "stdout",
     "output_type": "stream",
     "text": [
      "['O', 'Hello', 'world']\n",
      "O\n",
      "Hello\n",
      "world\n"
     ]
    },
    {
     "data": {
      "text/plain": [
       "'Oay elloHay orldway'"
      ]
     },
     "execution_count": 58,
     "metadata": {},
     "output_type": "execute_result"
    }
   ],
   "source": [
    "pig_it('O Hello world')"
   ]
  }
 ],
 "metadata": {
  "kernelspec": {
   "display_name": "Python 3",
   "language": "python",
   "name": "python3"
  },
  "language_info": {
   "codemirror_mode": {
    "name": "ipython",
    "version": 3
   },
   "file_extension": ".py",
   "mimetype": "text/x-python",
   "name": "python",
   "nbconvert_exporter": "python",
   "pygments_lexer": "ipython3",
   "version": "3.7.3"
  }
 },
 "nbformat": 4,
 "nbformat_minor": 2
}
