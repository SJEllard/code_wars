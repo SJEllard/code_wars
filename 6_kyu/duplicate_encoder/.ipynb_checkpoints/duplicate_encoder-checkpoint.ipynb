{
 "cells": [
  {
   "cell_type": "code",
   "execution_count": 1,
   "metadata": {},
   "outputs": [],
   "source": [
    "def duplicate_encode(word):\n",
    "    word = word.lower()\n",
    "    \n",
    "    count = 0\n",
    "    dictionary = {}\n",
    "    new_string = ''\n",
    "    \n",
    "    for i in range(0,len(word)):\n",
    "        dictionary[word[i]] = 0\n",
    "        #print(dictionary)\n",
    "\n",
    "    for key in dictionary:\n",
    "        for i in range(0,len(word)):\n",
    "            if (key == word[i]):\n",
    "                dictionary[key] += 1 \n",
    "                #print(dictionary)\n",
    "                \n",
    "                \n",
    "    for letter in word:\n",
    "         if letter in dictionary:\n",
    "            if dictionary[letter] == 1:\n",
    "                new_string += '('\n",
    "            else:\n",
    "                new_string += ')'\n",
    "                \n",
    "    return new_string"
   ]
  },
  {
   "cell_type": "code",
   "execution_count": 2,
   "metadata": {},
   "outputs": [],
   "source": [
    "word = \"Canada\""
   ]
  },
  {
   "cell_type": "code",
   "execution_count": 3,
   "metadata": {
    "scrolled": true
   },
   "outputs": [
    {
     "data": {
      "text/plain": [
       "'()()()'"
      ]
     },
     "execution_count": 3,
     "metadata": {},
     "output_type": "execute_result"
    }
   ],
   "source": [
    "duplicate_encode(word)"
   ]
  },
  {
   "cell_type": "code",
   "execution_count": null,
   "metadata": {},
   "outputs": [],
   "source": []
  }
 ],
 "metadata": {
  "kernelspec": {
   "display_name": "Python 3",
   "language": "python",
   "name": "python3"
  },
  "language_info": {
   "codemirror_mode": {
    "name": "ipython",
    "version": 3
   },
   "file_extension": ".py",
   "mimetype": "text/x-python",
   "name": "python",
   "nbconvert_exporter": "python",
   "pygments_lexer": "ipython3",
   "version": "3.7.3"
  }
 },
 "nbformat": 4,
 "nbformat_minor": 2
}
