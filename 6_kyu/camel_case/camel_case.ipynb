{
 "cells": [
  {
   "cell_type": "code",
   "execution_count": null,
   "metadata": {},
   "outputs": [],
   "source": [
    "# Write simple .camelCase method (camel_case function in PHP, \n",
    "# CamelCase in C# or camelCase in Java) for strings. \n",
    "# All words must have their first letter capitalized without spaces.\n",
    "\n",
    "# For instance:\n",
    "\n",
    "# camelcase(\"hello case\") => HelloCase\n",
    "# camelcase(\"camel case word\") => CamelCaseWord"
   ]
  },
  {
   "cell_type": "code",
   "execution_count": 129,
   "metadata": {},
   "outputs": [],
   "source": [
    "def camel_case(string):\n",
    "    sentence = string.title().replace(\" \",\"\")\n",
    "    return sentence"
   ]
  },
  {
   "cell_type": "code",
   "execution_count": 130,
   "metadata": {},
   "outputs": [
    {
     "data": {
      "text/plain": [
       "'AStringOfWords'"
      ]
     },
     "execution_count": 130,
     "metadata": {},
     "output_type": "execute_result"
    }
   ],
   "source": [
    "camel_case(\"a string of words\")"
   ]
  }
 ],
 "metadata": {
  "kernelspec": {
   "display_name": "Python 3",
   "language": "python",
   "name": "python3"
  },
  "language_info": {
   "codemirror_mode": {
    "name": "ipython",
    "version": 3
   },
   "file_extension": ".py",
   "mimetype": "text/x-python",
   "name": "python",
   "nbconvert_exporter": "python",
   "pygments_lexer": "ipython3",
   "version": "3.7.3"
  }
 },
 "nbformat": 4,
 "nbformat_minor": 2
}
