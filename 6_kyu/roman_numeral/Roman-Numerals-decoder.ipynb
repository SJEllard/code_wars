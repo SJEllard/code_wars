{
 "cells": [
  {
   "cell_type": "code",
   "execution_count": null,
   "metadata": {},
   "outputs": [],
   "source": [
    "# Modern Roman numerals are written by expressing each decimal digit \n",
    "# of the number to be encoded separately, starting with the leftmost digit and skipping any 0s. \n",
    "# So 1990 is rendered \"MCMXC\" (1000 = M, 900 = CM, 90 = XC) and 2008 is rendered \"MMVIII\" (2000 = MM, 8 = VIII). \n",
    "# The Roman numeral for 1666, \"MDCLXVI\", uses each letter in descending order.\n",
    "\n",
    "# Example:\n",
    "\n",
    "# solution('XXI') # should return 21\n",
    "# Help:\n",
    "\n",
    "# Symbol    Value\n",
    "# I          1\n",
    "# V          5\n",
    "# X          10\n",
    "# L          50\n",
    "# C          100\n",
    "# D          500\n",
    "# M          1,000"
   ]
  },
  {
   "cell_type": "code",
   "execution_count": 49,
   "metadata": {},
   "outputs": [],
   "source": [
    "def solution(roman):    \n",
    "    legend = {\n",
    "        \"I\": 1,\n",
    "        \"V\": 5,\n",
    "        \"X\": 10,\n",
    "        \"L\": 50,\n",
    "        \"C\": 100,\n",
    "        \"D\": 500,\n",
    "        \"M\": 1000\n",
    "    }\n",
    "    total = 0 \n",
    "\n",
    "    while roman:\n",
    "        #if length of roman is 1 OR dict_name[str_name[0]] greater or equal to dict_name[str_name[1]]\n",
    "        if len(roman) == 1 or legend[roman[0]] >= legend[roman[1]]:\n",
    "            #add dict_name[str_name[0]]\n",
    "            total += legend[roman[0]]\n",
    "            #update roman\n",
    "            roman = roman[1:]\n",
    "        #else (index 0 is less then index 1)\n",
    "        else:\n",
    "        #add the difference to the total\n",
    "            total += legend[roman[1]] - legend[roman[0]]\n",
    "            #update roman\n",
    "            roman = roman[2:]\n",
    "    return total\n",
    "    "
   ]
  },
  {
   "cell_type": "code",
   "execution_count": 50,
   "metadata": {},
   "outputs": [
    {
     "data": {
      "text/plain": [
       "2008"
      ]
     },
     "execution_count": 50,
     "metadata": {},
     "output_type": "execute_result"
    }
   ],
   "source": [
    "solution('MMVIII')"
   ]
  },
  {
   "cell_type": "code",
   "execution_count": null,
   "metadata": {},
   "outputs": [],
   "source": []
  }
 ],
 "metadata": {
  "kernelspec": {
   "display_name": "Python 3",
   "language": "python",
   "name": "python3"
  },
  "language_info": {
   "codemirror_mode": {
    "name": "ipython",
    "version": 3
   },
   "file_extension": ".py",
   "mimetype": "text/x-python",
   "name": "python",
   "nbconvert_exporter": "python",
   "pygments_lexer": "ipython3",
   "version": "3.7.3"
  }
 },
 "nbformat": 4,
 "nbformat_minor": 2
}
