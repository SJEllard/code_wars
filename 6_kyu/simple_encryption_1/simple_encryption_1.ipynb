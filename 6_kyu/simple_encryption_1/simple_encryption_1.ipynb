{
 "cells": [
  {
   "cell_type": "code",
   "execution_count": null,
   "metadata": {},
   "outputs": [],
   "source": [
    "# For building the encrypted string:\n",
    "# Take every 2nd char from the string, then the other chars, that are not every 2nd char, \n",
    "# and concat them as new String.\n",
    "# Do this n times!\n",
    "\n",
    "# Examples:\n",
    "\n",
    "# \"This is a test!\", 1 -> \"hsi  etTi sats!\"\n",
    "# \"This is a test!\", 2 -> \"hsi  etTi sats!\" -> \"s eT ashi tist!\"\n",
    "# Write two methods:\n",
    "\n",
    "# def encrypt(text, n)\n",
    "# def decrypt(encrypted_text, n)\n",
    "# For both methods:\n",
    "# If the input-string is null or empty return exactly this value!\n",
    "# If n is <= 0 then return the input text"
   ]
  },
  {
   "cell_type": "code",
   "execution_count": 402,
   "metadata": {},
   "outputs": [],
   "source": [
    "def encrypt(text, n):\n",
    "    if n <= 0:\n",
    "        return(text)\n",
    "    \n",
    "    string = text\n",
    "    i = 0 \n",
    "    \n",
    "    while i < n:\n",
    "        letters = [] \n",
    "        lead = []\n",
    "        tail = []\n",
    "        for l in string:\n",
    "            letters += l  \n",
    "        j = 0\n",
    "        while j < len(letters):\n",
    "            if j % 2 == 0:\n",
    "                #even index\n",
    "                tail += letters[j]\n",
    "            else:\n",
    "                #odd index\n",
    "                lead += letters[j]\n",
    "            j += 1   \n",
    "        string = lead + tail\n",
    "        i += 1\n",
    "        \n",
    "    result = ''\n",
    "    for l in string:\n",
    "        result += l\n",
    "    return(result)"
   ]
  },
  {
   "cell_type": "code",
   "execution_count": 403,
   "metadata": {},
   "outputs": [
    {
     "data": {
      "text/plain": [
       "'This is a test!'"
      ]
     },
     "execution_count": 403,
     "metadata": {},
     "output_type": "execute_result"
    }
   ],
   "source": [
    "encrypt(\"This is a test!\", 0)"
   ]
  },
  {
   "cell_type": "code",
   "execution_count": 404,
   "metadata": {},
   "outputs": [
    {
     "data": {
      "text/plain": [
       "'hsi  etTi sats!'"
      ]
     },
     "execution_count": 404,
     "metadata": {},
     "output_type": "execute_result"
    }
   ],
   "source": [
    "encrypt(\"This is a test!\", 1)  #hsi  etTi sats!"
   ]
  },
  {
   "cell_type": "code",
   "execution_count": 405,
   "metadata": {},
   "outputs": [
    {
     "data": {
      "text/plain": [
       "'s eT ashi tist!'"
      ]
     },
     "execution_count": 405,
     "metadata": {},
     "output_type": "execute_result"
    }
   ],
   "source": [
    "encrypt(\"This is a test!\", 2)  #s eT ashi tist!"
   ]
  },
  {
   "cell_type": "code",
   "execution_count": 415,
   "metadata": {},
   "outputs": [],
   "source": [
    "def decrypt(encrypted_text, n):\n",
    "    if n <= 0:\n",
    "        return(encrypted_text)\n",
    "        \n",
    "    string = encrypted_text\n",
    "    #loop decrypt\n",
    "    i = 0\n",
    "    while i < n:\n",
    "        text = list(string)\n",
    "        length = len(text)\n",
    "        if length % 2 == 0:\n",
    "            split = length//2\n",
    "        else:\n",
    "            split = (length-1)//2\n",
    "\n",
    "        lead = text[0:split]\n",
    "        tail = text[split:length]    \n",
    "\n",
    "        \n",
    "        j = 0 \n",
    "        result = []\n",
    "        \n",
    "        while j < len(tail):\n",
    "            result += tail[j]\n",
    "            if j < len(lead):\n",
    "                result += lead[j]\n",
    "            j += 1\n",
    "            #print(result)\n",
    "        \n",
    "        string = ''\n",
    "        for l in result:\n",
    "            string += l\n",
    "        i += 1\n",
    "        \n",
    "    return(string)"
   ]
  },
  {
   "cell_type": "code",
   "execution_count": 416,
   "metadata": {},
   "outputs": [
    {
     "data": {
      "text/plain": [
       "'This is a test!'"
      ]
     },
     "execution_count": 416,
     "metadata": {},
     "output_type": "execute_result"
    }
   ],
   "source": [
    "decrypt(\"hsi  etTi sats!\", 1)"
   ]
  },
  {
   "cell_type": "code",
   "execution_count": 417,
   "metadata": {},
   "outputs": [
    {
     "data": {
      "text/plain": [
       "'This is a test!'"
      ]
     },
     "execution_count": 417,
     "metadata": {},
     "output_type": "execute_result"
    }
   ],
   "source": [
    "decrypt(\"s eT ashi tist!\", 2)"
   ]
  },
  {
   "cell_type": "code",
   "execution_count": 418,
   "metadata": {},
   "outputs": [
    {
     "data": {
      "text/plain": [
       "'This is a test!'"
      ]
     },
     "execution_count": 418,
     "metadata": {},
     "output_type": "execute_result"
    }
   ],
   "source": [
    "decrypt(\"This is a test!\", -1)"
   ]
  },
  {
   "cell_type": "code",
   "execution_count": null,
   "metadata": {},
   "outputs": [],
   "source": []
  }
 ],
 "metadata": {
  "kernelspec": {
   "display_name": "Python 3",
   "language": "python",
   "name": "python3"
  },
  "language_info": {
   "codemirror_mode": {
    "name": "ipython",
    "version": 3
   },
   "file_extension": ".py",
   "mimetype": "text/x-python",
   "name": "python",
   "nbconvert_exporter": "python",
   "pygments_lexer": "ipython3",
   "version": "3.7.3"
  }
 },
 "nbformat": 4,
 "nbformat_minor": 2
}
