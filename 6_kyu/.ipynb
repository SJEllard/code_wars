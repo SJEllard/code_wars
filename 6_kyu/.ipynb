{
 "cells": [
  {
   "cell_type": "code",
   "execution_count": null,
   "metadata": {},
   "outputs": [],
   "source": [
    "# See: https://www.codewars.com/kata/meeting/train/python\n",
    "\n",
    "# Could you make a program that\n",
    "\n",
    "# makes this string uppercase\n",
    "# gives it sorted in alphabetical order by last name.\n",
    "# When the last names are the same, sort them by first name.\n",
    "# Last name and first name of a guest come in the result between parentheses separated by a comma.\n",
    "\n",
    "#s = \"Fred:Corwill;Wilfred:Corwill;Barney:Tornbull;Betty:Tornbull;Bjon:Tornbull;Raphael:Corwill;Alfred:Corwill\";\n",
    "\n",
    "\n",
    "# So the result of function meeting(s) will be:\n",
    "\n",
    "# \"(CORWILL, ALFRED)(CORWILL, FRED)(CORWILL, RAPHAEL)(CORWILL, WILFRED)\n",
    "# (TORNBULL, BARNEY)(TORNBULL, BETTY)(TORNBULL, BJON)\""
   ]
  },
  {
   "cell_type": "code",
   "execution_count": 174,
   "metadata": {},
   "outputs": [],
   "source": [
    "def meeting(s):\n",
    "    string = s.replace(\";\",' ').replace(\":\", \",\").upper()\n",
    "    names = string.split(\" \")\n",
    "    result = []\n",
    "    for name in names:\n",
    "        namebank = []\n",
    "        namebank = name.split(',')\n",
    "        flippedname = namebank[1] + ', ' + namebank[0]\n",
    "        result.append(flippedname)\n",
    "    result.sort()\n",
    "    meetings = \"\"\n",
    "    for word in result:\n",
    "        meetings += (\"(\"+word+\")\")\n",
    "    return meetings"
   ]
  },
  {
   "cell_type": "code",
   "execution_count": 175,
   "metadata": {},
   "outputs": [
    {
     "data": {
      "text/plain": [
       "'(CORWILL, ALFRED)(CORWILL, FRED)(CORWILL, RAPHAEL)(CORWILL, WILFRED)(TORNBULL, BARNEY)(TORNBULL, BETTY)(TORNBULL, BJON)'"
      ]
     },
     "execution_count": 175,
     "metadata": {},
     "output_type": "execute_result"
    }
   ],
   "source": [
    "s = \"Fred:Corwill;Wilfred:Corwill;Barney:Tornbull;Betty:Tornbull;Bjon:Tornbull;Raphael:Corwill;Alfred:Corwill\"\n",
    "meeting(s)"
   ]
  },
  {
   "cell_type": "code",
   "execution_count": null,
   "metadata": {},
   "outputs": [],
   "source": []
  },
  {
   "cell_type": "code",
   "execution_count": null,
   "metadata": {},
   "outputs": [],
   "source": []
  }
 ],
 "metadata": {
  "kernelspec": {
   "display_name": "Python 3",
   "language": "python",
   "name": "python3"
  },
  "language_info": {
   "codemirror_mode": {
    "name": "ipython",
    "version": 3
   },
   "file_extension": ".py",
   "mimetype": "text/x-python",
   "name": "python",
   "nbconvert_exporter": "python",
   "pygments_lexer": "ipython3",
   "version": "3.7.3"
  }
 },
 "nbformat": 4,
 "nbformat_minor": 2
}
